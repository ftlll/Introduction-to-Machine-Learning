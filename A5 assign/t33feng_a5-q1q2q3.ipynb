{
 "cells": [
  {
   "cell_type": "markdown",
   "metadata": {},
   "source": [
    "# A2Q1: SparseMatMult"
   ]
  },
  {
   "cell_type": "code",
   "execution_count": 9,
   "metadata": {},
   "outputs": [],
   "source": [
    "import numpy as np\n",
    "from scipy.sparse import dok_matrix, csr_matrix\n",
    "from copy import deepcopy\n",
    "import matplotlib.pyplot as plt"
   ]
  },
  {
   "cell_type": "code",
   "execution_count": 12,
   "metadata": {},
   "outputs": [],
   "source": [
    "def SparseMatMult(G, x):\n",
    "    '''\n",
    "      y = SparseMatMult(G, x)\n",
    "      \n",
    "      Multiplies a vector (x) by a sparse matrix G,\n",
    "      such that y = G @ x .\n",
    "      \n",
    "      Inputs:\n",
    "        G is an NxM dictionary-of-keys (dok) sparse matrix\n",
    "        x is an M-vector\n",
    "      \n",
    "      Output:\n",
    "        y is an N-vector\n",
    "    '''\n",
    "    rows,cols = G.nonzero()\n",
    "    Nrows,Ncols = np.shape(G)\n",
    "    y = np.zeros(Nrows)\n",
    "\n",
    "    # === YOUR CODE HERE\n",
    "    for i in range(Nrows):\n",
    "        for j in range(Ncols):\n",
    "            y[i] += G[i, j] * x[i]\n",
    "    return y"
   ]
  },
  {
   "cell_type": "code",
   "execution_count": null,
   "metadata": {},
   "outputs": [],
   "source": []
  },
  {
   "cell_type": "markdown",
   "metadata": {},
   "source": [
    "# A2Q2: Page Rank"
   ]
  },
  {
   "cell_type": "code",
   "execution_count": 198,
   "metadata": {
    "code_folding": []
   },
   "outputs": [],
   "source": [
    "def PageRank(G, alpha):\n",
    "    '''\n",
    "     p, iters = PageRank(G, alpha)\n",
    "\n",
    "     Computes the Google Page-rank for the network in the adjacency matrix G.\n",
    "     \n",
    "     Note: This function never forms a full RxR matrix, where R is the number\n",
    "           of node in the network.\n",
    "\n",
    "     Input\n",
    "       G     is an RxR adjacency matrix, G[i,j] = 1 iff node j projects to node i\n",
    "             Note: G must be a dictionary-of-keys (dok) sparse matrix\n",
    "       alpha is a scalar between 0 and 1\n",
    "\n",
    "     Output\n",
    "       p     is a probability vector containing the Page-rank of each node\n",
    "       iters is the number of iterations used to achieve a change tolerance\n",
    "             of 1e-8 (changes to elements of p are all smaller than 1e-8)\n",
    "\n",
    "     [-1] if code is not readable\n",
    "    '''\n",
    "    \n",
    "    R = np.shape(G)[0]  # R = Number of nodes\n",
    "    p = np.zeros(R, dtype=float)\n",
    "    iters = 0\n",
    "\n",
    "    # === YOUR CODE HERE ===\n",
    "    outlinks = np.sum(G, 0)\n",
    "    outlinks = np.asarray(outlinks)[0]\n",
    "    d = np.zeros(R)\n",
    "    for i in range(R):\n",
    "        if outlinks[i] == 0:\n",
    "            d[i] = 1\n",
    "            \n",
    "    D = 1/(outlinks)\n",
    "    P = SparseMatMult(G, D)\n",
    "    e = np.ones(R)\n",
    "    p = np.ones(R)/R  #init possibility\n",
    "    \n",
    "    err = 1\n",
    "    count = 0\n",
    "    while err > 1e-8 and count < 7777:\n",
    "        Mx = alpha * (P*p + e*(d*p)/R) + (1 - alpha)/R*e\n",
    "        err = np.linalg.norm(p - Mx, np.inf)\n",
    "        p = Mx\n",
    "        count = count + 1\n",
    "    \n",
    "    iters = count\n",
    "    if iters == 7777:\n",
    "        p = -1\n",
    "    return p, iters"
   ]
  },
  {
   "cell_type": "code",
   "execution_count": null,
   "metadata": {},
   "outputs": [],
   "source": []
  },
  {
   "cell_type": "markdown",
   "metadata": {},
   "source": [
    "# A2Q3: Illegal Trading Network"
   ]
  },
  {
   "cell_type": "markdown",
   "metadata": {},
   "source": [
    "## (a) Create sparse matrix"
   ]
  },
  {
   "cell_type": "code",
   "execution_count": 199,
   "metadata": {},
   "outputs": [],
   "source": [
    "# === YOUR CODE HERE ===\n",
    "G = dok_matrix((12,12))\n",
    "A = 0\n",
    "B = 1\n",
    "C = 2\n",
    "D = 3\n",
    "E = 4\n",
    "F = 5\n",
    "#G = 6\n",
    "H = 7\n",
    "I = 8\n",
    "J = 9\n",
    "K = 10\n",
    "L = 11\n",
    "G[1, 0] = 38\n",
    "G[2, 0] = 38\n",
    "G[4, 0] = 24\n",
    "G[0, 1] = 6\n",
    "G[2, 1] = 41\n",
    "G[5, 1] = 53\n",
    "G[0, 2] = 47\n",
    "G[1, 2] = 29\n",
    "G[3, 2] = 24\n",
    "G[2, 3] = 8\n",
    "G[4, 3] = 42\n",
    "G[5, 3] = 50\n",
    "G[0, 4] = 9\n",
    "G[3, 4] = 4\n",
    "G[5, 4] = 9\n",
    "G[6, 4] = 39\n",
    "G[11, 4] = 39\n",
    "G[1, 5] = 9\n",
    "G[3, 5] = 28\n",
    "G[4, 5] = 19\n",
    "G[7, 5] = 22\n",
    "G[11, 5] = 22\n",
    "G[4, 6] = 13\n",
    "G[7, 6] = 17\n",
    "G[8, 6] = 23\n",
    "G[11, 6] = 20\n",
    "G[9, 6] = 27\n",
    "G[5, 7] = 15\n",
    "G[6, 7] = 21\n",
    "G[8, 7] = 21\n",
    "G[9, 7] = 10\n",
    "G[10, 7] = 18\n",
    "G[11, 7] = 15\n",
    "G[6, 8] = 24\n",
    "G[7, 8] = 24\n",
    "G[9, 8] = 32\n",
    "G[10, 8] = 20\n",
    "G[6, 9] = 30\n",
    "G[7, 9] = 40\n",
    "G[8, 9] = 5\n",
    "G[10, 9] = 25\n",
    "G[7, 10] = 33\n",
    "G[8, 10] = 7\n",
    "G[9, 10] = 60\n",
    "G[6, 11] = 24\n",
    "G[7, 11] = 24\n",
    "G[9, 11] = 32\n",
    "G[10, 11] = 20\n"
   ]
  },
  {
   "cell_type": "markdown",
   "metadata": {},
   "source": [
    "## (b) Run PageRank on network"
   ]
  },
  {
   "cell_type": "code",
   "execution_count": 201,
   "metadata": {},
   "outputs": [
    {
     "name": "stderr",
     "output_type": "stream",
     "text": [
      "/srv/jupyter_venv/lib/python3.6/site-packages/ipykernel_launcher.py:43: RuntimeWarning: overflow encountered in multiply\n",
      "/srv/jupyter_venv/lib/python3.6/site-packages/ipykernel_launcher.py:43: RuntimeWarning: invalid value encountered in multiply\n"
     ]
    },
    {
     "data": {
      "image/png": "[encoded data removed]",
      "text/plain": [
       "<Figure size 432x288 with 1 Axes>"
      ]
     },
     "metadata": {
      "needs_background": "light"
     },
     "output_type": "display_data"
    }
   ],
   "source": [
    "# === YOUR CODE HERE ===\n",
    "p, iters = PageRank(G, 1)\n",
    "fig = plt.figure()\n",
    "ax = fig.add_axes([0,0,1,1])\n",
    "a = [\"A\", \"B\", \"C\", \"D\", \"E\", \"F\", \"G\", \"H\", \"I\", \"J\", \"K\", \"L\"]\n",
    "ax.bar(a,p)\n",
    "plt.xlabel('location')\n",
    "plt.ylabel('probability')\n",
    "plt.show()"
   ]
  },
  {
   "cell_type": "markdown",
   "metadata": {},
   "source": [
    "## (c) Note to police"
   ]
  },
  {
   "cell_type": "markdown",
   "metadata": {},
   "source": [
    "YOUR COMMENTS HERE\n",
    "H is the most influential place"
   ]
  },
  {
   "cell_type": "code",
   "execution_count": null,
   "metadata": {},
   "outputs": [],
   "source": []
  }
 ],
 "metadata": {
  "kernelspec": {
   "display_name": "Python 3",
   "language": "python",
   "name": "python3"
  },
  "language_info": {
   "codemirror_mode": {
    "name": "ipython",
    "version": 3
   },
   "file_extension": ".py",
   "mimetype": "text/x-python",
   "name": "python",
   "nbconvert_exporter": "python",
   "pygments_lexer": "ipython3",
   "version": "3.6.9"
  }
 },
 "nbformat": 4,
 "nbformat_minor": 4
}
