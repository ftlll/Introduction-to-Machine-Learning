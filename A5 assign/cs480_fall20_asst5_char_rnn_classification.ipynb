{
  "nbformat": 4,
  "nbformat_minor": 0,
  "metadata": {
    "colab": {
      "name": "cs480_fall20_asst5_char_rnn_classification.ipynb",
      "provenance": [],
      "collapsed_sections": []
    },
    "language_info": {
      "codemirror_mode": {
        "name": "ipython",
        "version": 3
      },
      "file_extension": ".py",
      "mimetype": "text/x-python",
      "name": "python",
      "nbconvert_exporter": "python",
      "pygments_lexer": "ipython3",
      "version": "3.6.6"
    },
    "kernelspec": {
      "name": "python3",
      "display_name": "Python 3"
    }
  },
  "cells": [
    {
      "cell_type": "markdown",
      "metadata": {
        "id": "o3UFgeUebGKo"
      },
      "source": [
        "Download the data"
      ]
    },
    {
      "cell_type": "code",
      "metadata": {
        "id": "P6BH8Bgpa_ZS",
        "outputId": "6558e443-95da-4a39-d609-7f7c264e5e12",
        "colab": {
          "base_uri": "https://localhost:8080/"
        }
      },
      "source": [
        "!wget https://download.pytorch.org/tutorial/data.zip\n",
        "!unzip data.zip\n",
        "!ls"
      ],
      "execution_count": null,
      "outputs": [
        {
          "output_type": "stream",
          "text": [
            "--2020-11-09 18:34:30--  https://download.pytorch.org/tutorial/data.zip\n",
            "Resolving download.pytorch.org (download.pytorch.org)... 13.35.36.46, 13.35.36.36, 13.35.36.125, ...\n",
            "Connecting to download.pytorch.org (download.pytorch.org)|13.35.36.46|:443... connected.\n",
            "HTTP request sent, awaiting response... 200 OK\n",
            "Length: 2882130 (2.7M) [application/zip]\n",
            "Saving to: ‘data.zip’\n",
            "\n",
            "data.zip            100%[===================>]   2.75M  8.17MB/s    in 0.3s    \n",
            "\n",
            "2020-11-09 18:34:30 (8.17 MB/s) - ‘data.zip’ saved [2882130/2882130]\n",
            "\n",
            "Archive:  data.zip\n",
            "   creating: data/\n",
            "  inflating: data/eng-fra.txt        \n",
            "   creating: data/names/\n",
            "  inflating: data/names/Arabic.txt   \n",
            "  inflating: data/names/Chinese.txt  \n",
            "  inflating: data/names/Czech.txt    \n",
            "  inflating: data/names/Dutch.txt    \n",
            "  inflating: data/names/English.txt  \n",
            "  inflating: data/names/French.txt   \n",
            "  inflating: data/names/German.txt   \n",
            "  inflating: data/names/Greek.txt    \n",
            "  inflating: data/names/Irish.txt    \n",
            "  inflating: data/names/Italian.txt  \n",
            "  inflating: data/names/Japanese.txt  \n",
            "  inflating: data/names/Korean.txt   \n",
            "  inflating: data/names/Polish.txt   \n",
            "  inflating: data/names/Portuguese.txt  \n",
            "  inflating: data/names/Russian.txt  \n",
            "  inflating: data/names/Scottish.txt  \n",
            "  inflating: data/names/Spanish.txt  \n",
            "  inflating: data/names/Vietnamese.txt  \n",
            "data  data.zip\tsample_data\n"
          ],
          "name": "stdout"
        }
      ]
    },
    {
      "cell_type": "code",
      "metadata": {
        "id": "IGZLdMtDUfxu"
      },
      "source": [
        "%matplotlib inline"
      ],
      "execution_count": null,
      "outputs": []
    },
    {
      "cell_type": "markdown",
      "metadata": {
        "id": "KNkkHixNUfxz"
      },
      "source": [
        "\n",
        "Classifying Names with a Character-Level RNN\n",
        "*********************************************\n",
        "**Author**: `Sean Robertson <https://github.com/spro/practical-pytorch>`_\n",
        "\n",
        "We will be building and training a basic character-level RNN to classify\n",
        "words. A character-level RNN reads words as a series of characters -\n",
        "outputting a prediction and \"hidden state\" at each step, feeding its\n",
        "previous hidden state into each next step. We take the final prediction\n",
        "to be the output, i.e. which class the word belongs to.\n",
        "\n",
        "Specifically, we'll train on a few thousand surnames from 18 languages\n",
        "of origin, and predict which language a name is from based on the\n",
        "spelling:\n",
        "\n",
        "::\n",
        "\n",
        "    $ python predict.py Hinton\n",
        "    (-0.47) Scottish\n",
        "    (-1.52) English\n",
        "    (-3.57) Irish\n",
        "\n",
        "    $ python predict.py Schmidhuber\n",
        "    (-0.19) German\n",
        "    (-2.48) Czech\n",
        "    (-2.68) Dutch\n",
        "\n",
        "\n",
        "**Recommended Reading:**\n",
        "\n",
        "I assume you have at least installed PyTorch, know Python, and\n",
        "understand Tensors:\n",
        "\n",
        "-  http://pytorch.org/ For installation instructions\n",
        "-  :doc:`/beginner/deep_learning_60min_blitz` to get started with PyTorch in general\n",
        "-  :doc:`/beginner/pytorch_with_examples` for a wide and deep overview\n",
        "-  :doc:`/beginner/former_torchies_tutorial` if you are former Lua Torch user\n",
        "\n",
        "It would also be useful to know about RNNs and how they work:\n",
        "\n",
        "-  `The Unreasonable Effectiveness of Recurrent Neural\n",
        "   Networks <http://karpathy.github.io/2015/05/21/rnn-effectiveness/>`__\n",
        "   shows a bunch of real life examples\n",
        "-  `Understanding LSTM\n",
        "   Networks <http://colah.github.io/posts/2015-08-Understanding-LSTMs/>`__\n",
        "   is about LSTMs specifically but also informative about RNNs in\n",
        "   general\n",
        "\n",
        "Preparing the Data\n",
        "==================\n",
        "\n",
        ".. Note::\n",
        "   Download the data from\n",
        "   `here <https://download.pytorch.org/tutorial/data.zip>`_\n",
        "   and extract it to the current directory.\n",
        "\n",
        "Included in the ``data/names`` directory are 18 text files named as\n",
        "\"[Language].txt\". Each file contains a bunch of names, one name per\n",
        "line, mostly romanized (but we still need to convert from Unicode to\n",
        "ASCII).\n",
        "\n",
        "We'll end up with a dictionary of lists of names per language,\n",
        "``{language: [names ...]}``. The generic variables \"category\" and \"line\"\n",
        "(for language and name in our case) are used for later extensibility.\n",
        "\n"
      ]
    },
    {
      "cell_type": "code",
      "metadata": {
        "id": "MfLSXwTHUfxz",
        "outputId": "0b63ff1f-81ca-4e88-caae-2168fe50bfb5",
        "colab": {
          "base_uri": "https://localhost:8080/"
        }
      },
      "source": [
        "from __future__ import unicode_literals, print_function, division\n",
        "from io import open\n",
        "import glob\n",
        "import os\n",
        "import random\n",
        "\n",
        "def findFiles(path): return glob.glob(path)\n",
        "\n",
        "print(findFiles('data/names/*.txt'))\n",
        "\n",
        "import unicodedata\n",
        "import string\n",
        "import math\n",
        "\n",
        "all_letters = string.ascii_letters + \" .,;'\"\n",
        "n_letters = len(all_letters)\n",
        "\n",
        "# Turn a Unicode string to plain ASCII, thanks to http://stackoverflow.com/a/518232/2809427\n",
        "def unicodeToAscii(s):\n",
        "    return ''.join(\n",
        "        c for c in unicodedata.normalize('NFD', s)\n",
        "        if unicodedata.category(c) != 'Mn'\n",
        "        and c in all_letters\n",
        "    )\n",
        "\n",
        "print(unicodeToAscii('Ślusàrski'))\n",
        "\n",
        "# Build the category_lines dictionary, a list of names per language\n",
        "category_lines = {}\n",
        "train_data = {}\n",
        "validation_data = {}\n",
        "test_data = {}\n",
        "all_categories = []\n",
        "\n",
        "# Read a file and split into lines\n",
        "def readLines(filename):\n",
        "    lines = open(filename, encoding='utf-8').read().strip().split('\\n')\n",
        "    return [unicodeToAscii(line) for line in lines]\n",
        "\n",
        "for filename in findFiles('data/names/*.txt'):\n",
        "    category = os.path.splitext(os.path.basename(filename))[0]\n",
        "    all_categories.append(category)\n",
        "    lines = readLines(filename)\n",
        "    random.shuffle(lines)\n",
        "    train_data[category] = lines[0:int(math.floor(0.7*len(lines)))]\n",
        "    validation_data[category] = lines[int(math.floor(0.7*len(lines)))+1:int(math.floor(0.85*len(lines)))]\n",
        "    test_data[category] = lines[int(math.floor(0.85*len(lines)))+1:]\n",
        "    category_lines[category] = lines\n",
        "\n",
        "n_categories = len(all_categories)"
      ],
      "execution_count": null,
      "outputs": [
        {
          "output_type": "stream",
          "text": [
            "['data/names/Irish.txt', 'data/names/Czech.txt', 'data/names/Portuguese.txt', 'data/names/German.txt', 'data/names/Vietnamese.txt', 'data/names/Polish.txt', 'data/names/Chinese.txt', 'data/names/French.txt', 'data/names/Russian.txt', 'data/names/Dutch.txt', 'data/names/Spanish.txt', 'data/names/Greek.txt', 'data/names/English.txt', 'data/names/Italian.txt', 'data/names/Japanese.txt', 'data/names/Arabic.txt', 'data/names/Korean.txt', 'data/names/Scottish.txt']\n",
            "Slusarski\n"
          ],
          "name": "stdout"
        }
      ]
    },
    {
      "cell_type": "markdown",
      "metadata": {
        "id": "lPlBRkDuUfx2"
      },
      "source": [
        "Now we have ``category_lines``, a dictionary mapping each category\n",
        "(language) to a list of lines (names). We also kept track of\n",
        "``all_categories`` (just a list of languages) and ``n_categories`` for\n",
        "later reference.\n",
        "\n",
        "\n"
      ]
    },
    {
      "cell_type": "code",
      "metadata": {
        "id": "VKlnBNIjUfx2",
        "outputId": "51c78685-9d0c-4a9b-bf0d-8cfdcd8d4cde",
        "colab": {
          "base_uri": "https://localhost:8080/"
        }
      },
      "source": [
        "print(category_lines['Italian'][:5])"
      ],
      "execution_count": null,
      "outputs": [
        {
          "output_type": "stream",
          "text": [
            "['Marchetti', 'Salvaggi', 'Aloia', 'Rossini', 'Pisani']\n"
          ],
          "name": "stdout"
        }
      ]
    },
    {
      "cell_type": "markdown",
      "metadata": {
        "id": "I5SGUIMRUfx4"
      },
      "source": [
        "Turning Names into Tensors\n",
        "--------------------------\n",
        "\n",
        "Now that we have all the names organized, we need to turn them into\n",
        "Tensors to make any use of them.\n",
        "\n",
        "To represent a single letter, we use a \"one-hot vector\" of size\n",
        "``<1 x n_letters>``. A one-hot vector is filled with 0s except for a 1\n",
        "at index of the current letter, e.g. ``\"b\" = <0 1 0 0 0 ...>``.\n",
        "\n",
        "To make a word we join a bunch of those into a 2D matrix\n",
        "``<line_length x 1 x n_letters>``.\n",
        "\n",
        "That extra 1 dimension is because PyTorch assumes everything is in\n",
        "batches - we're just using a batch size of 1 here.\n",
        "\n",
        "\n"
      ]
    },
    {
      "cell_type": "code",
      "metadata": {
        "id": "SPFamDJVUfx5",
        "outputId": "cfb6b608-b902-40e6-8c1f-73578364536c",
        "colab": {
          "base_uri": "https://localhost:8080/"
        }
      },
      "source": [
        "import torch\n",
        "\n",
        "# Find letter index from all_letters, e.g. \"a\" = 0\n",
        "def letterToIndex(letter):\n",
        "    return all_letters.find(letter)\n",
        "\n",
        "# Just for demonstration, turn a letter into a <1 x n_letters> Tensor\n",
        "def letterToTensor(letter):\n",
        "    tensor = torch.zeros(1, n_letters)\n",
        "    tensor[0][letterToIndex(letter)] = 1\n",
        "    return tensor\n",
        "\n",
        "# Turn a line into a <line_length x 1 x n_letters>,\n",
        "# or an array of one-hot letter vectors\n",
        "def lineToTensor(line):\n",
        "    tensor = torch.zeros(len(line), 1, n_letters)\n",
        "    for li, letter in enumerate(line):\n",
        "        tensor[li][0][letterToIndex(letter)] = 1\n",
        "    return tensor\n",
        "\n",
        "print(letterToTensor('J'))\n",
        "\n",
        "print(lineToTensor('Jones').size())"
      ],
      "execution_count": null,
      "outputs": [
        {
          "output_type": "stream",
          "text": [
            "tensor([[0., 0., 0., 0., 0., 0., 0., 0., 0., 0., 0., 0., 0., 0., 0., 0., 0., 0.,\n",
            "         0., 0., 0., 0., 0., 0., 0., 0., 0., 0., 0., 0., 0., 0., 0., 0., 0., 1.,\n",
            "         0., 0., 0., 0., 0., 0., 0., 0., 0., 0., 0., 0., 0., 0., 0., 0., 0., 0.,\n",
            "         0., 0., 0.]])\n",
            "torch.Size([5, 1, 57])\n"
          ],
          "name": "stdout"
        }
      ]
    },
    {
      "cell_type": "markdown",
      "metadata": {
        "id": "FBQkCWy_Ufx7"
      },
      "source": [
        "Creating the Network\n",
        "====================\n",
        "\n",
        "Before autograd, creating a recurrent neural network in Torch involved\n",
        "cloning the parameters of a layer over several timesteps. The layers\n",
        "held hidden state and gradients which are now entirely handled by the\n",
        "graph itself. This means you can implement a RNN in a very \"pure\" way,\n",
        "as regular feed-forward layers.\n",
        "\n",
        "This RNN module (mostly copied from `the PyTorch for Torch users\n",
        "tutorial <http://pytorch.org/tutorials/beginner/former_torchies/\n",
        "nn_tutorial.html#example-2-recurrent-net>`__)\n",
        "is just 2 linear layers which operate on an input and hidden state, with\n",
        "a LogSoftmax layer after the output.\n",
        "\n",
        ".. figure:: https://i.imgur.com/Z2xbySO.png\n",
        "   :alt:\n",
        "\n",
        "\n",
        "\n"
      ]
    },
    {
      "cell_type": "code",
      "metadata": {
        "id": "nAJSP2rTUfx8"
      },
      "source": [
        "import torch.nn as nn\n",
        "from torch.autograd import Variable\n",
        "\n",
        "class RNN(nn.Module):\n",
        "    def __init__(self, input_size, hidden_size, output_size, type):\n",
        "        super(RNN, self).__init__()\n",
        "\n",
        "        self.hidden_size = hidden_size\n",
        "        if type == 'linear':\n",
        "          self.i2h = nn.Linear(input_size + hidden_size, hidden_size)\n",
        "          self.i2o = nn.Linear(input_size + hidden_size, output_size)\n",
        "        elif type == 'GRU':\n",
        "          self.i2h = nn.GRUCell(input_size + hidden_size, hidden_size)\n",
        "          self.i2o = nn.Linear(input_size + hidden_size, output_size)\n",
        "        self.softmax = nn.LogSoftmax(dim=1)\n",
        "\n",
        "    def forward(self, input, hidden):\n",
        "        combined = torch.cat((input, hidden), 1)\n",
        "        hidden = self.i2h(combined)\n",
        "        output = self.i2o(combined)\n",
        "        output = self.softmax(output)\n",
        "        return output, hidden\n",
        "\n",
        "    def initHidden(self):\n",
        "        return torch.zeros(1, self.hidden_size)\n",
        "\n",
        "class LSTM(nn.Module):\n",
        "    def __init__(self, input_size, hidden_size, output_size):\n",
        "        super(LSTM, self).__init__()\n",
        "\n",
        "        self.hidden_size = hidden_size\n",
        "        \n",
        "        self.i2h = nn.LSTMCell(input_size + hidden_size * 2, hidden_size)\n",
        "        self.i2o = nn.Linear(input_size + hidden_size, output_size)\n",
        "        self.softmax = nn.LogSoftmax(dim=1)\n",
        "\n",
        "    def forward(self, input, hidden, cell):\n",
        "        combined_o = torch.cat((input, hidden), 1)\n",
        "        combined_hc = torch.cat((input, hidden, cell), 1)\n",
        "        hidden, cell = self.i2h(combined_hc)\n",
        "        output = self.i2o(combined_o)\n",
        "        output = self.softmax(output)\n",
        "        return output, hidden, cell\n",
        "\n",
        "    def initHidden(self):\n",
        "        return torch.zeros(1, self.hidden_size)\n",
        "      \n",
        "    def initCell(self):\n",
        "        return torch.zeros(1, self.hidden_size)\n",
        "\n",
        "n_hidden = 128\n",
        "rnn = RNN(n_letters, n_hidden, n_categories, 'linear')    \n",
        "GRU = RNN(n_letters, n_hidden, n_categories, 'GRU')   \n",
        "lstm = LSTM(n_letters, n_hidden, n_categories)   "
      ],
      "execution_count": null,
      "outputs": []
    },
    {
      "cell_type": "markdown",
      "metadata": {
        "id": "fhxOqo0mUfx-"
      },
      "source": [
        "To run a step of this network we need to pass an input (in our case, the\n",
        "Tensor for the current letter) and a previous hidden state (which we\n",
        "initialize as zeros at first). We'll get back the output (probability of\n",
        "each language) and a next hidden state (which we keep for the next\n",
        "step).\n",
        "\n",
        "\n"
      ]
    },
    {
      "cell_type": "code",
      "metadata": {
        "id": "5zjQ-ZXbUfx-"
      },
      "source": [
        "input = letterToTensor('A')\n",
        "hidden =torch.zeros(1, n_hidden)\n",
        "\n",
        "output, next_hidden = rnn(input, hidden)"
      ],
      "execution_count": null,
      "outputs": []
    },
    {
      "cell_type": "markdown",
      "metadata": {
        "id": "juc150V5UfyB"
      },
      "source": [
        "For the sake of efficiency we don't want to be creating a new Tensor for\n",
        "every step, so we will use ``lineToTensor`` instead of\n",
        "``letterToTensor`` and use slices. This could be further optimized by\n",
        "pre-computing batches of Tensors.\n",
        "\n",
        "\n"
      ]
    },
    {
      "cell_type": "code",
      "metadata": {
        "id": "hLpj5ZVPUfyB",
        "outputId": "a725ff0e-b436-4d48-ba18-02738dba8ade",
        "colab": {
          "base_uri": "https://localhost:8080/"
        }
      },
      "source": [
        "input = lineToTensor('Albert')\n",
        "hidden = torch.zeros(1, n_hidden)\n",
        "\n",
        "output, next_hidden = rnn(input[0], hidden)\n",
        "print(output)"
      ],
      "execution_count": null,
      "outputs": [
        {
          "output_type": "stream",
          "text": [
            "tensor([[-2.9583, -2.7544, -2.9121, -2.8659, -2.9145, -2.9055, -2.8695, -2.8737,\n",
            "         -2.8878, -2.8485, -2.8367, -2.9760, -2.9750, -2.9719, -2.8247, -2.8293,\n",
            "         -2.8448, -3.0169]], grad_fn=<LogSoftmaxBackward>)\n"
          ],
          "name": "stdout"
        }
      ]
    },
    {
      "cell_type": "markdown",
      "metadata": {
        "id": "Wy0E3nCjUfyE"
      },
      "source": [
        "As you can see the output is a ``<1 x n_categories>`` Tensor, where\n",
        "every item is the likelihood of that category (higher is more likely).\n",
        "\n",
        "\n"
      ]
    },
    {
      "cell_type": "markdown",
      "metadata": {
        "id": "ukMo68ApUfyF"
      },
      "source": [
        "Training\n",
        "========\n",
        "Preparing for Training\n",
        "----------------------\n",
        "\n",
        "Before going into training we should make a few helper functions. The\n",
        "first is to interpret the output of the network, which we know to be a\n",
        "likelihood of each category. We can use ``Tensor.topk`` to get the index\n",
        "of the greatest value:\n",
        "\n",
        "\n"
      ]
    },
    {
      "cell_type": "code",
      "metadata": {
        "id": "bFY_yAVKUfyG",
        "outputId": "0ba99c67-cc4e-42ed-8700-7d1f5a9a935a",
        "colab": {
          "base_uri": "https://localhost:8080/"
        }
      },
      "source": [
        "def categoryFromOutput(output):\n",
        "    top_n, top_i = output.topk(1)\n",
        "    category_i = top_i[0].item()\n",
        "    return all_categories[category_i], category_i\n",
        "\n",
        "print(categoryFromOutput(output))"
      ],
      "execution_count": null,
      "outputs": [
        {
          "output_type": "stream",
          "text": [
            "('Czech', 1)\n"
          ],
          "name": "stdout"
        }
      ]
    },
    {
      "cell_type": "markdown",
      "metadata": {
        "id": "mdDJjeS5UfyJ"
      },
      "source": [
        "We will also want a quick way to get a training example (a name and its\n",
        "language):\n",
        "\n",
        "\n"
      ]
    },
    {
      "cell_type": "code",
      "metadata": {
        "id": "nTNx73poUfyK",
        "outputId": "3ef85a3d-d64d-408d-a4c6-cf1656e51808",
        "colab": {
          "base_uri": "https://localhost:8080/"
        }
      },
      "source": [
        "import random\n",
        "\n",
        "def randomChoice(l):\n",
        "    return l[random.randint(0, len(l) - 1)]\n",
        "\n",
        "def randomTrainingExample():\n",
        "    category = randomChoice(all_categories)\n",
        "    line = randomChoice(train_data[category])\n",
        "    category_tensor = torch.tensor([all_categories.index(category)], dtype=torch.long)\n",
        "    line_tensor = lineToTensor(line)\n",
        "    return category, line, category_tensor, line_tensor\n",
        "\n",
        "for i in range(10):\n",
        "    category, line, category_tensor, line_tensor = randomTrainingExample()\n",
        "    print('category =', category, '/ line =', line)"
      ],
      "execution_count": null,
      "outputs": [
        {
          "output_type": "stream",
          "text": [
            "category = Arabic / line = Zogby\n",
            "category = Vietnamese / line = Ta\n",
            "category = Polish / line = Filipowski\n",
            "category = Arabic / line = Morcos\n",
            "category = Italian / line = Albero\n",
            "category = Czech / line = Svocak\n",
            "category = Dutch / line = Peerenboom\n",
            "category = Polish / line = Zuraw\n",
            "category = Chinese / line = Kuai\n",
            "category = Portuguese / line = Soares\n"
          ],
          "name": "stdout"
        }
      ]
    },
    {
      "cell_type": "markdown",
      "metadata": {
        "id": "Z4gnruWLUfyM"
      },
      "source": [
        "Training the Network\n",
        "--------------------\n",
        "\n",
        "Now all it takes to train this network is show it a bunch of examples,\n",
        "have it make guesses, and tell it if it's wrong.\n",
        "\n",
        "For the loss function ``nn.NLLLoss`` is appropriate, since the last\n",
        "layer of the RNN is ``nn.LogSoftmax``.\n",
        "\n",
        "\n"
      ]
    },
    {
      "cell_type": "code",
      "metadata": {
        "id": "b91CnzJPUfyM"
      },
      "source": [
        "criterion = nn.NLLLoss()"
      ],
      "execution_count": null,
      "outputs": []
    },
    {
      "cell_type": "markdown",
      "metadata": {
        "id": "FAp0xov1UfyP"
      },
      "source": [
        "Each loop of training will:\n",
        "\n",
        "-  Create input and target tensors\n",
        "-  Create a zeroed initial hidden state\n",
        "-  Read each letter in and\n",
        "\n",
        "   -  Keep hidden state for next letter\n",
        "\n",
        "-  Compare final output to target\n",
        "-  Back-propagate\n",
        "-  Return the output and loss\n",
        "\n",
        "\n"
      ]
    },
    {
      "cell_type": "code",
      "metadata": {
        "id": "ED_i2_CWUfyP"
      },
      "source": [
        "optimizer = torch.optim.Adam(rnn.parameters())\n",
        "def train(category_tensor, line_tensor):\n",
        "    hidden = rnn.initHidden()\n",
        "\n",
        "    # reset gradient\n",
        "    rnn.zero_grad()\n",
        "\n",
        "    for i in range(line_tensor.size()[0]):\n",
        "        output, hidden = rnn(line_tensor[i], hidden)\n",
        "    loss = criterion(output, category_tensor)\n",
        "\n",
        "    # compute gradient by backpropagation\n",
        "    loss.backward()\n",
        "\n",
        "    # update parameters\n",
        "    optimizer.step()\n",
        "\n",
        "    return output, loss.item()\n",
        "\n",
        "optimizer_GRU = torch.optim.Adam(GRU.parameters())\n",
        "def train_GRU(category_tensor, line_tensor):\n",
        "    hidden = GRU.initHidden()\n",
        "\n",
        "    GRU.zero_grad()\n",
        "\n",
        "    for i in range(line_tensor.size()[0]):\n",
        "        output, hidden = GRU(line_tensor[i], hidden)\n",
        "\n",
        "    loss = criterion(output, category_tensor)\n",
        "\n",
        "    # compute gradient by backpropagation\n",
        "    loss.backward()\n",
        "\n",
        "    # update parameters\n",
        "    optimizer_GRU.step()\n",
        "\n",
        "    return output, loss.item()\n",
        "\n",
        "optimizer_LSTM = torch.optim.Adam(lstm.parameters())\n",
        "def train_LSTM(category_tensor, line_tensor):\n",
        "    hidden = lstm.initHidden()\n",
        "    cell = lstm.initCell()\n",
        "\n",
        "    lstm.zero_grad()\n",
        "\n",
        "    for i in range(line_tensor.size()[0]):\n",
        "        output, hidden, cell = lstm(line_tensor[i], hidden, cell)\n",
        "\n",
        "    loss = criterion(output, category_tensor)\n",
        "\n",
        "    # compute gradient by backpropagation\n",
        "    loss.backward()\n",
        "\n",
        "    # update parameters\n",
        "    optimizer_LSTM.step()\n",
        "\n",
        "    return output, loss.item()"
      ],
      "execution_count": null,
      "outputs": []
    },
    {
      "cell_type": "markdown",
      "metadata": {
        "id": "R9usmP9JUfyR"
      },
      "source": [
        "Now we just have to run that with a bunch of examples. Since the\n",
        "``train`` function returns both the output and loss we can print its\n",
        "guesses and also keep track of loss for plotting. Since there are 1000s\n",
        "of examples we print only every ``print_every`` examples, and take an\n",
        "average of the loss.\n",
        "\n",
        "\n"
      ]
    },
    {
      "cell_type": "code",
      "metadata": {
        "id": "q-EUziAlUfyS",
        "outputId": "783b58f1-56d0-40cd-8f6d-4ddfe045c7dd",
        "colab": {
          "base_uri": "https://localhost:8080/"
        }
      },
      "source": [
        "import time\n",
        "import math\n",
        "\n",
        "n_iters = 80000\n",
        "print_every = 5000\n",
        "plot_every = 1000\n",
        "\n",
        "# Keep track of losses for plotting\n",
        "train_loss = 0\n",
        "all_train_losses = []\n",
        "all_validation_losses = []\n",
        "\n",
        "def timeSince(since):\n",
        "    now = time.time()\n",
        "    s = now - since\n",
        "    m = math.floor(s / 60)\n",
        "    s -= m * 60\n",
        "    return '%dm %ds' % (m, s)\n",
        "\n",
        "# Just return an output given a line\n",
        "def evaluate(line_tensor):\n",
        "    hidden = rnn.initHidden()\n",
        "    for i in range(line_tensor.size()[0]):\n",
        "        output, hidden = rnn(line_tensor[i], hidden)\n",
        "    return output\n",
        "\n",
        "def eval_dataset(dataset):\n",
        "    loss = 0\n",
        "    n_instances = 0\n",
        "    confusion = torch.zeros(n_categories, n_categories)\n",
        "    for category in all_categories:\n",
        "        category_tensor = Variable(torch.LongTensor([all_categories.index(category)]))\n",
        "        n_instances += len(dataset[category])\n",
        "        for line in dataset[category]:\n",
        "            line_tensor = Variable(lineToTensor(line))\n",
        "            output = evaluate(line_tensor)\n",
        "            loss += criterion(output, category_tensor)\n",
        "            guess, guess_i = categoryFromOutput(output)\n",
        "            category_i = all_categories.index(category)\n",
        "            confusion[category_i][guess_i] += 1\n",
        "\n",
        "    # Normalize by dividing every row by its sum\n",
        "    for i in range(n_categories):\n",
        "        confusion[i] = confusion[i] / confusion[i].sum()\n",
        "\n",
        "    return loss.item() / n_instances, confusion\n",
        "  \n",
        "print('\\nIter \\tTrain% \\tTime \\t\\tTrain_loss \\tExample')\n",
        "start = time.time()\n",
        "for iter in range(1, n_iters + 1):\n",
        "    category, line, category_tensor, line_tensor = randomTrainingExample()\n",
        "    output, loss = train(category_tensor, line_tensor)\n",
        "    train_loss += loss\n",
        "\n",
        "    # Print iter number, train loss average, name and guess\n",
        "    if iter % print_every == 0:\n",
        "        guess, guess_i = categoryFromOutput(output)\n",
        "        correct = '✓' if guess == category else '✗ (%s)' % category\n",
        "        print('%d \\t%d%% \\t(%s) \\t%.4f \\t\\t%s / %s %s' % (iter, iter / n_iters * 100, timeSince(start), train_loss / plot_every, line, guess, correct))\n",
        "\n",
        "    # Add current train loss average to list of losses\n",
        "    if iter % plot_every == 0:\n",
        "        all_train_losses.append(train_loss / plot_every)\n",
        "        train_loss = 0\n",
        "        \n",
        "    # Compute loss based on validation data\n",
        "    if iter % plot_every == 0:\n",
        "        average_validation_loss, _ = eval_dataset(validation_data)\n",
        "\n",
        "        # save model with best validation loss\n",
        "        if len(all_validation_losses) == 0 or average_validation_loss < min(all_validation_losses):\n",
        "            torch.save(rnn, 'char_rnn_classification_model.pt')\n",
        "        all_validation_losses.append(average_validation_loss)\n"
      ],
      "execution_count": null,
      "outputs": [
        {
          "output_type": "stream",
          "text": [
            "\n",
            "Iter \tTrain% \tTime \t\tTrain_loss \tExample\n",
            "5000 \t6% \t(0m 20s) \t1.8347 \t\tCnaimhin / Russian ✗ (Irish)\n",
            "10000 \t12% \t(0m 44s) \t1.5337 \t\tGwozdek / Polish ✓\n",
            "15000 \t18% \t(1m 7s) \t1.4692 \t\tTannous / French ✗ (Arabic)\n",
            "20000 \t25% \t(1m 31s) \t1.3553 \t\tMeeuwe / Japanese ✗ (Dutch)\n",
            "25000 \t31% \t(1m 55s) \t1.3447 \t\tFabian / French ✓\n",
            "30000 \t37% \t(2m 18s) \t1.2997 \t\tPing / Chinese ✓\n",
            "35000 \t43% \t(2m 42s) \t1.1933 \t\tNifterik / Dutch ✓\n",
            "40000 \t50% \t(3m 7s) \t1.2729 \t\tCastro / Portuguese ✓\n",
            "45000 \t56% \t(3m 31s) \t1.2562 \t\tShiokawa / Japanese ✓\n",
            "50000 \t62% \t(3m 54s) \t1.2333 \t\tDoan / Vietnamese ✓\n",
            "55000 \t68% \t(4m 17s) \t1.2240 \t\tO'Ryan / Irish ✓\n",
            "60000 \t75% \t(4m 41s) \t1.1252 \t\tAraullo / Portuguese ✓\n",
            "65000 \t81% \t(5m 4s) \t1.1595 \t\tYun / Chinese ✗ (Korean)\n",
            "70000 \t87% \t(5m 28s) \t1.1296 \t\tRowe / Scottish ✗ (English)\n",
            "75000 \t93% \t(5m 51s) \t1.1699 \t\tAbategiovanni / Greek ✗ (Italian)\n",
            "80000 \t100% \t(6m 15s) \t1.1963 \t\tSchneider / Czech ✗ (German)\n"
          ],
          "name": "stdout"
        }
      ]
    },
    {
      "cell_type": "markdown",
      "metadata": {
        "id": "QHzoakoHgfQg"
      },
      "source": [
        "GRU"
      ]
    },
    {
      "cell_type": "code",
      "metadata": {
        "id": "IF0Q_IGXTU-b",
        "outputId": "e1fc2f69-728d-4e56-e71d-8e15e19e27af",
        "colab": {
          "base_uri": "https://localhost:8080/"
        }
      },
      "source": [
        "import time\n",
        "import math\n",
        "\n",
        "n_iters = 80000\n",
        "print_every = 5000\n",
        "plot_every = 1000\n",
        "\n",
        "# Keep track of losses for plotting\n",
        "train_loss_GRU = 0\n",
        "all_train_losses_GRU = []\n",
        "all_validation_losses_GRU = []\n",
        "\n",
        "def timeSince(since):\n",
        "    now = time.time()\n",
        "    s = now - since\n",
        "    m = math.floor(s / 60)\n",
        "    s -= m * 60\n",
        "    return '%dm %ds' % (m, s)\n",
        "\n",
        "# Just return an output given a line\n",
        "def evaluate(line_tensor):\n",
        "    hidden = GRU.initHidden()\n",
        "    for i in range(line_tensor.size()[0]):\n",
        "        output, hidden = GRU(line_tensor[i], hidden)\n",
        "    return output\n",
        "\n",
        "def eval_dataset(dataset):\n",
        "    loss = 0\n",
        "    n_instances = 0\n",
        "    confusion = torch.zeros(n_categories, n_categories)\n",
        "    for category in all_categories:\n",
        "        category_tensor = Variable(torch.LongTensor([all_categories.index(category)]))\n",
        "        n_instances += len(dataset[category])\n",
        "        for line in dataset[category]:\n",
        "            line_tensor = Variable(lineToTensor(line))\n",
        "            output = evaluate(line_tensor)\n",
        "            loss += criterion(output, category_tensor)\n",
        "            guess, guess_i = categoryFromOutput(output)\n",
        "            category_i = all_categories.index(category)\n",
        "            confusion[category_i][guess_i] += 1\n",
        "\n",
        "    # Normalize by dividing every row by its sum\n",
        "    for i in range(n_categories):\n",
        "        confusion[i] = confusion[i] / confusion[i].sum()\n",
        "\n",
        "    return loss.item() / n_instances, confusion\n",
        "  \n",
        "print('\\nIter \\tTrain% \\tTime \\t\\tTrain_loss \\tExample')\n",
        "start = time.time()\n",
        "for iter in range(1, n_iters + 1):\n",
        "    category, line, category_tensor, line_tensor = randomTrainingExample()\n",
        "    output, loss = train_GRU(category_tensor, line_tensor)\n",
        "    train_loss_GRU += loss\n",
        "\n",
        "    # Print iter number, train loss average, name and guess\n",
        "    if iter % print_every == 0:\n",
        "        guess, guess_i = categoryFromOutput(output)\n",
        "        correct = '✓' if guess == category else '✗ (%s)' % category\n",
        "        print('%d \\t%d%% \\t(%s) \\t%.4f \\t\\t%s / %s %s' % (iter, iter / n_iters * 100, timeSince(start), train_loss_GRU / plot_every, line, guess, correct))\n",
        "\n",
        "    # Add current train loss average to list of losses\n",
        "    if iter % plot_every == 0:\n",
        "        all_train_losses_GRU.append(train_loss_GRU / plot_every)\n",
        "        train_loss_GRU = 0\n",
        "        \n",
        "    # Compute loss based on validation data\n",
        "    if iter % plot_every == 0:\n",
        "        average_validation_loss, _ = eval_dataset(validation_data)\n",
        "\n",
        "        # save model with best validation loss\n",
        "        if len(all_validation_losses_GRU) == 0 or average_validation_loss < min(all_validation_losses_GRU):\n",
        "            torch.save(GRU, 'char_rnn_classification_model_GRU.pt')\n",
        "        all_validation_losses_GRU.append(average_validation_loss)"
      ],
      "execution_count": null,
      "outputs": [
        {
          "output_type": "stream",
          "text": [
            "\n",
            "Iter \tTrain% \tTime \t\tTrain_loss \tExample\n",
            "5000 \t6% \t(0m 55s) \t1.8387 \t\tMckenzie / Greek ✗ (Scottish)\n",
            "10000 \t12% \t(1m 57s) \t1.4119 \t\tRamakers / Dutch ✓\n",
            "15000 \t18% \t(2m 59s) \t1.1661 \t\tTsukahara / Japanese ✓\n",
            "20000 \t25% \t(4m 1s) \t0.9573 \t\tPortnov / Russian ✓\n",
            "25000 \t31% \t(5m 2s) \t0.8236 \t\tRocha / Portuguese ✗ (Spanish)\n",
            "30000 \t37% \t(6m 5s) \t0.7287 \t\tHan / Chinese ✗ (Vietnamese)\n",
            "35000 \t43% \t(7m 7s) \t0.6900 \t\tSalib / Arabic ✓\n",
            "40000 \t50% \t(8m 10s) \t0.6182 \t\tPierre / French ✓\n",
            "45000 \t56% \t(9m 11s) \t0.5510 \t\tHamada / Japanese ✓\n",
            "50000 \t62% \t(10m 16s) \t0.5189 \t\tCowell / English ✓\n",
            "55000 \t68% \t(11m 18s) \t0.4465 \t\tDriscoll / Russian ✗ (English)\n",
            "60000 \t75% \t(12m 19s) \t0.4562 \t\tYun / Korean ✓\n",
            "65000 \t81% \t(13m 21s) \t0.4246 \t\tPeng / Chinese ✓\n",
            "70000 \t87% \t(14m 23s) \t0.3627 \t\tHabarov / Russian ✓\n",
            "75000 \t93% \t(15m 24s) \t0.4194 \t\tMalone / Irish ✓\n",
            "80000 \t100% \t(16m 25s) \t0.3700 \t\tRossum / Dutch ✓\n"
          ],
          "name": "stdout"
        }
      ]
    },
    {
      "cell_type": "markdown",
      "metadata": {
        "id": "CoXmyZZ6iZKC"
      },
      "source": [
        "LSTM"
      ]
    },
    {
      "cell_type": "code",
      "metadata": {
        "id": "Kd4HdnyCiaK3",
        "outputId": "54d34dac-1a44-4232-853c-5463c2534008",
        "colab": {
          "base_uri": "https://localhost:8080/"
        }
      },
      "source": [
        "import time\n",
        "import math\n",
        "\n",
        "n_iters = 80000\n",
        "print_every = 5000\n",
        "plot_every = 1000\n",
        "\n",
        "# Keep track of losses for plotting\n",
        "train_loss_LSTM = 0\n",
        "all_train_losses_LSTM = []\n",
        "all_validation_losses_LSTM = []\n",
        "\n",
        "def timeSince(since):\n",
        "    now = time.time()\n",
        "    s = now - since\n",
        "    m = math.floor(s / 60)\n",
        "    s -= m * 60\n",
        "    return '%dm %ds' % (m, s)\n",
        "\n",
        "# Just return an output given a line\n",
        "def evaluate_LSTM(line_tensor):\n",
        "    hidden = lstm.initHidden()\n",
        "    cell = lstm.initCell()\n",
        "\n",
        "    for i in range(line_tensor.size()[0]):\n",
        "        output, hidden, cell = lstm(line_tensor[i], hidden, cell)\n",
        "    return output\n",
        "\n",
        "def eval_dataset_LSTM(dataset):\n",
        "    loss = 0\n",
        "    n_instances = 0\n",
        "    confusion = torch.zeros(n_categories, n_categories)\n",
        "    for category in all_categories:\n",
        "        category_tensor = Variable(torch.LongTensor([all_categories.index(category)]))\n",
        "        n_instances += len(dataset[category])\n",
        "        for line in dataset[category]:\n",
        "            line_tensor = Variable(lineToTensor(line))\n",
        "            output = evaluate_LSTM(line_tensor)\n",
        "            loss += criterion(output, category_tensor)\n",
        "            guess, guess_i = categoryFromOutput(output)\n",
        "            category_i = all_categories.index(category)\n",
        "            confusion[category_i][guess_i] += 1\n",
        "\n",
        "    # Normalize by dividing every row by its sum\n",
        "    for i in range(n_categories):\n",
        "        confusion[i] = confusion[i] / confusion[i].sum()\n",
        "\n",
        "    return loss.item() / n_instances, confusion\n",
        "  \n",
        "print('\\nIter \\tTrain% \\tTime \\t\\tTrain_loss \\tExample')\n",
        "start = time.time()\n",
        "for iter in range(1, n_iters + 1):\n",
        "    category, line, category_tensor, line_tensor = randomTrainingExample()\n",
        "    output, loss = train_LSTM(category_tensor, line_tensor)\n",
        "    train_loss_LSTM += loss\n",
        "\n",
        "    # Print iter number, train loss average, name and guess\n",
        "    if iter % print_every == 0:\n",
        "        guess, guess_i = categoryFromOutput(output)\n",
        "        correct = '✓' if guess == category else '✗ (%s)' % category\n",
        "        print('%d \\t%d%% \\t(%s) \\t%.4f \\t\\t%s / %s %s' % (iter, iter / n_iters * 100, timeSince(start), train_loss_LSTM / plot_every, line, guess, correct))\n",
        "\n",
        "    # Add current train loss average to list of losses\n",
        "    if iter % plot_every == 0:\n",
        "        all_train_losses_LSTM.append(train_loss_LSTM / plot_every)\n",
        "        train_loss_LSTM = 0\n",
        "        \n",
        "    # Compute loss based on validation data\n",
        "    if iter % plot_every == 0:\n",
        "        average_validation_loss, _ = eval_dataset_LSTM(validation_data)\n",
        "\n",
        "        # save model with best validation loss\n",
        "        if len(all_validation_losses_LSTM) == 0 or average_validation_loss < min(all_validation_losses_LSTM):\n",
        "            torch.save(lstm, 'char_rnn_classification_model_lstm.pt')\n",
        "        all_validation_losses_LSTM.append(average_validation_loss)"
      ],
      "execution_count": null,
      "outputs": [
        {
          "output_type": "stream",
          "text": [
            "\n",
            "Iter \tTrain% \tTime \t\tTrain_loss \tExample\n",
            "5000 \t6% \t(1m 9s) \t1.9248 \t\tLauwens / French ✗ (Dutch)\n",
            "10000 \t12% \t(2m 25s) \t1.4792 \t\tDaele / English ✗ (Dutch)\n",
            "15000 \t18% \t(3m 40s) \t1.1223 \t\tTakishida / Japanese ✓\n",
            "20000 \t25% \t(4m 56s) \t1.0290 \t\tMcguire / Irish ✓\n",
            "25000 \t31% \t(6m 14s) \t0.8921 \t\tLecuyer / German ✗ (French)\n",
            "30000 \t37% \t(7m 31s) \t0.7729 \t\tVo / Vietnamese ✓\n",
            "35000 \t43% \t(8m 46s) \t0.6986 \t\tMonahan / Irish ✓\n",
            "40000 \t50% \t(10m 1s) \t0.6560 \t\tZhai / Chinese ✓\n",
            "45000 \t56% \t(11m 15s) \t0.6007 \t\tChurchill / English ✓\n",
            "50000 \t62% \t(12m 29s) \t0.5503 \t\tMingo / Italian ✗ (Spanish)\n",
            "55000 \t68% \t(13m 43s) \t0.6172 \t\tNahas / Arabic ✓\n",
            "60000 \t75% \t(14m 59s) \t0.4775 \t\tMcintosh / Scottish ✓\n",
            "65000 \t81% \t(16m 14s) \t0.5322 \t\tSugawara / Japanese ✓\n",
            "70000 \t87% \t(17m 30s) \t0.4862 \t\tJon / Korean ✓\n",
            "75000 \t93% \t(18m 46s) \t0.4513 \t\tSommer / German ✓\n",
            "80000 \t100% \t(20m 1s) \t0.5024 \t\tClose / Greek ✓\n"
          ],
          "name": "stdout"
        }
      ]
    },
    {
      "cell_type": "markdown",
      "metadata": {
        "id": "3mFqhbXRUfyU"
      },
      "source": [
        "Plotting the Results\n",
        "--------------------\n",
        "\n",
        "Plotting the historical loss from ``all_losses`` shows the network\n",
        "learning:\n",
        "\n",
        "\n"
      ]
    },
    {
      "cell_type": "code",
      "metadata": {
        "id": "qdcD6MmgUfyV",
        "outputId": "01158936-a8ef-49e4-b8b9-c481d18f2dd3",
        "colab": {
          "base_uri": "https://localhost:8080/",
          "height": 590
        }
      },
      "source": [
        "import matplotlib.pyplot as plt\n",
        "import matplotlib.ticker as ticker\n",
        "\n",
        "plt.figure()\n",
        "plt.plot(all_train_losses)\n",
        "plt.plot(all_train_losses_GRU)\n",
        "plt.plot(all_train_losses_LSTM)\n",
        "plt.title('Classifying names with a character-level RNN (Train Loss)')\n",
        "plt.ylabel('Negative Log Likelihood')\n",
        "plt.xlabel('# of 1000 iterations')\n",
        "plt.legend(['Linear', 'GRU', 'LSTM'], loc='upper right')\n",
        "\n",
        "\n",
        "plt.figure()\n",
        "plt.plot(all_validation_losses)\n",
        "plt.plot(all_validation_losses_GRU)\n",
        "plt.plot(all_validation_losses_LSTM)\n",
        "plt.title('Classifying names with a character-level RNN (Validation Loss)')\n",
        "plt.ylabel('Negative Log Likelihood')\n",
        "plt.xlabel('# of 1000 iterations')\n",
        "plt.legend(['Linear', 'GRU', 'LSTM'], loc='upper right')\n"
      ],
      "execution_count": null,
      "outputs": [
        {
          "output_type": "execute_result",
          "data": {
            "text/plain": [
              "<matplotlib.legend.Legend at 0x7f9ec7795eb8>"
            ]
          },
          "metadata": {
            "tags": []
          },
          "execution_count": 121
        },
        {
          "output_type": "display_data",
          "data": {
            "image/png": "[encoded data removed]",
            "text/plain": [
              "<Figure size 432x288 with 1 Axes>"
            ]
          },
          "metadata": {
            "tags": [],
            "needs_background": "light"
          }
        },
        {
          "output_type": "display_data",
          "data": {
            "image/png": "[encoded data removed]",
            "text/plain": [
              "<Figure size 432x288 with 1 Axes>"
            ]
          },
          "metadata": {
            "tags": [],
            "needs_background": "light"
          }
        }
      ]
    },
    {
      "cell_type": "markdown",
      "metadata": {
        "id": "1xlV3q6IabG6"
      },
      "source": [
        "Based on the graph and data above, GRU use less training parameters and therefore use less memory, execute faster and train faster than LSTM's whereas LSTM is more accurate on dataset using longer sequence. Both of them have a much better performance than linear because their algorithm is more complicated to gain a more accurate solution."
      ]
    },
    {
      "cell_type": "markdown",
      "metadata": {
        "id": "rs5yHF_cUfyY"
      },
      "source": [
        "Evaluating the Results\n",
        "======================\n",
        "\n",
        "To see how well the network performs on different categories, we will\n",
        "create a confusion matrix, indicating for every actual language (rows)\n",
        "which language the network guesses (columns). To calculate the confusion\n",
        "matrix a bunch of samples are run through the network with\n",
        "``evaluate()``, which is the same as ``train()`` minus the backprop.\n",
        "\n",
        "\n"
      ]
    },
    {
      "cell_type": "code",
      "metadata": {
        "id": "El-a2qJvUfyZ",
        "outputId": "25757046-44bf-4086-c8e6-f75a9ca28d09",
        "colab": {
          "base_uri": "https://localhost:8080/",
          "height": 371
        }
      },
      "source": [
        "# evaluate on test set and display confusion matrix\n",
        "rnn = torch.load('char_rnn_classification_model.pt')\n",
        "average_test_loss, confusion = eval_dataset(test_data)\n",
        "print('Average test loss of linear: ' + str(average_test_loss))\n",
        "\n",
        "GRU = torch.load('char_rnn_classification_model_GRU.pt')\n",
        "average_test_loss_GRU, confusion = eval_dataset_GRU(test_data)\n",
        "print('Average test loss of GRU: ' + str(average_test_loss_GRU))\n",
        "\n",
        "lstm = torch.load('char_rnn_classification_model_lstm.pt')\n",
        "average_test_loss_LSTM, confusion = eval_dataset_LSTM(test_data)\n",
        "print('Average test loss of LSTM: ' + str(average_test_loss_LSTM))\n",
        "\n",
        "# Set up plot\n",
        "fig = plt.figure()\n",
        "ax = fig.add_subplot(111)\n",
        "cax = ax.matshow(confusion.numpy())\n",
        "fig.colorbar(cax)\n",
        "\n",
        "# Set up axes\n",
        "ax.set_xticklabels([''] + all_categories, rotation=90)\n",
        "ax.set_yticklabels([''] + all_categories)\n",
        "\n",
        "# Force label at every tick\n",
        "ax.xaxis.set_major_locator(ticker.MultipleLocator(1))\n",
        "ax.yaxis.set_major_locator(ticker.MultipleLocator(1))\n",
        "\n",
        "# sphinx_gallery_thumbnail_number = 2\n",
        "plt.show()"
      ],
      "execution_count": null,
      "outputs": [
        {
          "output_type": "stream",
          "text": [
            "Average test loss of linear: 1.107831406458264\n",
            "Average test loss of GRU: 1.0709211024710512\n",
            "Average test loss of LSTM: 1.0709211024710512\n"
          ],
          "name": "stdout"
        },
        {
          "output_type": "display_data",
          "data": {
            "image/png": "[encoded data removed]",
            "text/plain": [
              "<Figure size 432x288 with 2 Axes>"
            ]
          },
          "metadata": {
            "tags": [],
            "needs_background": "light"
          }
        }
      ]
    },
    {
      "cell_type": "markdown",
      "metadata": {
        "id": "DwU9mA1QUfyb"
      },
      "source": [
        "You can pick out bright spots off the main axis that show which\n",
        "languages it guesses incorrectly, e.g. Chinese for Korean, and Spanish\n",
        "for Italian. It seems to do very well with Greek, and very poorly with\n",
        "English (perhaps because of overlap with other languages).\n",
        "\n",
        "\n"
      ]
    },
    {
      "cell_type": "markdown",
      "metadata": {
        "id": "gWg7ObZAUfyc"
      },
      "source": [
        "Running on User Input\n",
        "---------------------\n",
        "\n",
        "\n"
      ]
    },
    {
      "cell_type": "code",
      "metadata": {
        "id": "bbWHJnCdUfyc",
        "outputId": "bf0917f8-248a-4683-cd44-0d6922916b0e",
        "colab": {
          "base_uri": "https://localhost:8080/"
        }
      },
      "source": [
        "def predict(input_line, n_predictions=3):\n",
        "    print('\\n> %s' % input_line)\n",
        "    with torch.no_grad():\n",
        "        output = evaluate(lineToTensor(input_line))\n",
        "\n",
        "        # Get top N categories\n",
        "        topv, topi = output.topk(n_predictions, 1, True)\n",
        "        predictions = []\n",
        "\n",
        "        for i in range(n_predictions):\n",
        "            value = topv[0][i].item()\n",
        "            category_index = topi[0][i].item()\n",
        "            print('(%.2f) %s' % (value, all_categories[category_index]))\n",
        "            predictions.append([value, all_categories[category_index]])\n",
        "\n",
        "predict('Dovesky')\n",
        "predict('Jackson')\n",
        "predict('Satoshi')"
      ],
      "execution_count": null,
      "outputs": [
        {
          "output_type": "stream",
          "text": [
            "\n",
            "> Dovesky\n",
            "(-0.37) Russian\n",
            "(-1.47) Czech\n",
            "(-3.18) English\n",
            "\n",
            "> Jackson\n",
            "(-1.08) Czech\n",
            "(-1.22) English\n",
            "(-1.57) Russian\n",
            "\n",
            "> Satoshi\n",
            "(-0.09) Japanese\n",
            "(-3.26) Polish\n",
            "(-4.01) Arabic\n"
          ],
          "name": "stdout"
        }
      ]
    },
    {
      "cell_type": "markdown",
      "metadata": {
        "id": "TWQ_XQrfUfyf"
      },
      "source": [
        "The final versions of the scripts `in the Practical PyTorch\n",
        "repo <https://github.com/spro/practical-pytorch/tree/master/char-rnn-classification>`__\n",
        "split the above code into a few files:\n",
        "\n",
        "-  ``data.py`` (loads files)\n",
        "-  ``model.py`` (defines the RNN)\n",
        "-  ``train.py`` (runs training)\n",
        "-  ``predict.py`` (runs ``predict()`` with command line arguments)\n",
        "-  ``server.py`` (serve prediction as a JSON API with bottle.py)\n",
        "\n",
        "Run ``train.py`` to train and save the network.\n",
        "\n",
        "Run ``predict.py`` with a name to view predictions:\n",
        "\n",
        "::\n",
        "\n",
        "    $ python predict.py Hazaki\n",
        "    (-0.42) Japanese\n",
        "    (-1.39) Polish\n",
        "    (-3.51) Czech\n",
        "\n",
        "Run ``server.py`` and visit http://localhost:5533/Yourname to get JSON\n",
        "output of predictions.\n",
        "\n",
        "\n"
      ]
    },
    {
      "cell_type": "markdown",
      "metadata": {
        "id": "-BX4vuLxUfyg"
      },
      "source": [
        "Exercises\n",
        "=========\n",
        "\n",
        "-  Try with a different dataset of line -> category, for example:\n",
        "\n",
        "   -  Any word -> language\n",
        "   -  First name -> gender\n",
        "   -  Character name -> writer\n",
        "   -  Page title -> blog or subreddit\n",
        "\n",
        "-  Get better results with a bigger and/or better shaped network\n",
        "\n",
        "   -  Add more linear layers\n",
        "   -  Try the ``nn.LSTM`` and ``nn.GRU`` layers\n",
        "   -  Combine multiple of these RNNs as a higher level network\n",
        "\n",
        "\n"
      ]
    }
  ]
}