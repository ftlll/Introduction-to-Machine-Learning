{
  "nbformat": 4,
  "nbformat_minor": 0,
  "metadata": {
    "colab": {
      "name": "cs480_fall20_asst6_gan_skeleton.ipynb",
      "provenance": [],
      "collapsed_sections": []
    },
    "kernelspec": {
      "name": "python3",
      "display_name": "Python 3"
    },
    "accelerator": "GPU"
  },
  "cells": [
    {
      "cell_type": "markdown",
      "metadata": {
        "id": "uQ6MDqRXH3g5"
      },
      "source": [
        "# Generalities for GANs\n",
        "\n",
        "* Import libraries\n",
        "* Run on GPU if possible\n",
        "* Create data loaders"
      ]
    },
    {
      "cell_type": "code",
      "metadata": {
        "id": "ljYSNGg8IHTn",
        "outputId": "1d08ea27-0cea-4a3b-e8ba-af13de0226de",
        "colab": {
          "base_uri": "https://localhost:8080/"
        }
      },
      "source": [
        "from __future__ import print_function\n",
        "import argparse\n",
        "import torch\n",
        "import torch.utils.data\n",
        "from torch import nn, optim\n",
        "from torch.nn import functional as F\n",
        "from torchvision import datasets, transforms\n",
        "from torchvision.utils import save_image\n",
        "from IPython.display import Image, display\n",
        "import matplotlib.pyplot as plt\n",
        "\n",
        "# create directory to save results\n",
        "!mkdir results\n",
        "\n",
        "# script parameters\n",
        "batch_size = 128\n",
        "log_interval = 100\n",
        "\n",
        "# run on GPU if possible\n",
        "cuda = torch.cuda.is_available()\n",
        "device = torch.device(\"cuda\" if cuda else \"cpu\")\n",
        "\n",
        "# create data loaders\n",
        "kwargs = {'num_workers': 1, 'pin_memory': True} if cuda else {}\n",
        "train_loader = torch.utils.data.DataLoader(\n",
        "    datasets.MNIST('../data', train=True, download=True,\n",
        "                   transform=transforms.ToTensor()),\n",
        "    batch_size=batch_size, shuffle=True, **kwargs)\n",
        "test_loader = torch.utils.data.DataLoader(\n",
        "    datasets.MNIST('../data', train=False, transform=transforms.ToTensor()),\n",
        "    batch_size=batch_size, shuffle=True, **kwargs)"
      ],
      "execution_count": 13,
      "outputs": [
        {
          "output_type": "stream",
          "text": [
            "mkdir: cannot create directory 鈥榬esults鈥�: File exists\n"
          ],
          "name": "stdout"
        }
      ]
    },
    {
      "cell_type": "markdown",
      "metadata": {
        "id": "c-slrIQdIfQ7"
      },
      "source": [
        "# Neural Network class\n",
        "\n",
        "* Generator\n",
        "* Discriminator\n"
      ]
    },
    {
      "cell_type": "code",
      "metadata": {
        "id": "rUW-c68rJwRo"
      },
      "source": [
        "# Generator Network\n",
        "class Generator(nn.Module):\n",
        "\n",
        "    # declare layers\n",
        "    def __init__(self):\n",
        "        super(Generator, self).__init__()\n",
        "\n",
        "        # dummy assignment until this function is filled in\n",
        "        self.fc1 = nn.Linear(1, 1)\n",
        "\n",
        "    # Forward: one ReLU hidden layer of 400 nodes, one Sigmoid output layer of 784 nodes\n",
        "    def forward(self, z):\n",
        "\n",
        "        # dummy assignment until this function is filled in\n",
        "        probabilities = torch.rand(z.shape[0],784).to(device)\n",
        "        return probabilities\n",
        "\n",
        "# Discriminator Network\n",
        "class Discriminator(nn.Module):\n",
        "\n",
        "    # declare layers\n",
        "    def __init__(self):\n",
        "        super(Discriminator, self).__init__()\n",
        "\n",
        "        # dummy assignment until this function is filled in\n",
        "        self.fc1 = nn.Linear(1, 1)\n",
        "\n",
        "    # Forward: one ReLU hidden layer of 400 nodes, one Sigmoid output layer of 1 node\n",
        "    def forward(self, x):\n",
        "\n",
        "        # dummy assignment until this function is filled in\n",
        "        probabilties = torch.rand(x.shape[0],1).to(device)\n",
        "        return probabilities"
      ],
      "execution_count": 14,
      "outputs": []
    },
    {
      "cell_type": "markdown",
      "metadata": {
        "id": "J1-_ORv-J0j_"
      },
      "source": [
        "# Loss Function"
      ]
    },
    {
      "cell_type": "code",
      "metadata": {
        "id": "Qsc_9JztKEuS"
      },
      "source": [
        "# GAN Loss Function\n",
        "#\n",
        "# Inputs:\n",
        "#    predictions: array of probabilities indicating whether the images are real or fake \n",
        "#    targets: array of 1s (real image) and 0s (fake image)\n",
        "#\n",
        "# Output:\n",
        "#    BCE: binary cross entropy (scalar)\n",
        "#\n",
        "def gan_loss_function(predictions, targets):\n",
        "\n",
        "    # dummy assignment until this function is filled in\n",
        "    BCE = 0\n",
        "    return BCE"
      ],
      "execution_count": 15,
      "outputs": []
    },
    {
      "cell_type": "markdown",
      "metadata": {
        "id": "-EjxBpPyK5O2"
      },
      "source": [
        "# Training"
      ]
    },
    {
      "cell_type": "code",
      "metadata": {
        "id": "wKit3ePwK7eX"
      },
      "source": [
        "# GAN Training\n",
        "#\n",
        "# Have a look at the following tutorial: https://pytorch.org/tutorials/beginner/dcgan_faces_tutorial.html\n",
        "#\n",
        "# Inputs:\n",
        "#    epoch: epoch #\n",
        "#    generator: generator network\n",
        "#    generator_optimizer: generator optimizer\n",
        "#    discriminator: discriminator network\n",
        "#    discriminator_optimizer: discriminator optimizer\n",
        "#\n",
        "# Outputs:\n",
        "#    average_generator_loss: binary cross entropy (scalar)\n",
        "#    average_discriminator_loss: binary cross entropy (scalar)\n",
        "#\n",
        "def gan_train(epoch, generator, generator_optimizer, discriminator, discriminator_optimizer):\n",
        "\n",
        "    # dummy assignment until this function is filled in\n",
        "    average_discriminator_loss = 0\n",
        "    average_generator_loss = 0\n",
        "    return average_generator_loss, average_discriminator_loss\n"
      ],
      "execution_count": 16,
      "outputs": []
    },
    {
      "cell_type": "markdown",
      "metadata": {
        "id": "UCKL-oZRL88a"
      },
      "source": [
        "# Testing\n"
      ]
    },
    {
      "cell_type": "code",
      "metadata": {
        "id": "8ocAuSUyMIvc"
      },
      "source": [
        "# GAN Test\n",
        "#\n",
        "# Have a look at the following tutorial: https://pytorch.org/tutorials/beginner/dcgan_faces_tutorial.html\n",
        "#\n",
        "# Inputs:\n",
        "#    epoch: epoch #\n",
        "#    generator: generator network\n",
        "#    discriminator: discriminator network\n",
        "#\n",
        "# Outputs:\n",
        "#    average_generator_loss: binary cross entropy (scalar)\n",
        "#    average_discriminator_loss: binary cross entropy (scalar)\n",
        "#\n",
        "def gan_test(epoch, generator, discriminator):\n",
        "\n",
        "    # dummy assignment until this function is filled in\n",
        "    average_generator_loss = 0\n",
        "    average_discriminator_loss = 0\n",
        "    return average_generator_loss, average_discriminator_loss"
      ],
      "execution_count": 17,
      "outputs": []
    },
    {
      "cell_type": "markdown",
      "metadata": {
        "id": "RwdEzswjNO--"
      },
      "source": [
        "# Main"
      ]
    },
    {
      "cell_type": "code",
      "metadata": {
        "id": "bGQp6JTfPKUL"
      },
      "source": [
        "# train and test gan\n",
        "epochs = 50\n",
        "discriminator_average_train_losses = []\n",
        "discriminator_average_test_losses = []\n",
        "generator_average_train_losses = []\n",
        "generator_average_test_losses = []\n",
        "generator_model = Generator().to(device)\n",
        "generator_optimizer = optim.Adam(generator_model.parameters(), lr=1e-3)\n",
        "discriminator_model = Discriminator().to(device)\n",
        "discriminator_optimizer = optim.Adam(discriminator_model.parameters(), lr=1e-3)\n",
        "for epoch in range(1, epochs + 1):\n",
        "    generator_average_train_loss, discriminator_average_train_loss = gan_train(epoch, generator_model, generator_optimizer, discriminator_model, discriminator_optimizer)\n",
        "    discriminator_average_train_losses.append(discriminator_average_train_loss)\n",
        "    generator_average_train_losses.append(generator_average_train_loss)\n",
        "    generator_average_test_loss, discriminator_average_test_loss = gan_test(epoch, generator_model, discriminator_model)\n",
        "    discriminator_average_test_losses.append(discriminator_average_test_loss)\n",
        "    generator_average_test_losses.append(generator_average_test_loss)\n",
        "    with torch.no_grad():\n",
        "        sample = torch.randn(64, 20).to(device)\n",
        "        sample = generator_model(sample).cpu()\n",
        "        save_image(sample.view(64, 1, 28, 28),\n",
        "                   'results/sample_' + str(epoch) + '.png')\n",
        "        print('Sample of generated images')\n",
        "        display(Image('results/sample_' + str(epoch) + '.png'))\n",
        "        print('\\n')\n",
        "\n",
        "# Plot Train losses\n",
        "plt.plot(discriminator_average_train_losses)\n",
        "plt.plot(generator_average_train_losses)\n",
        "plt.title('Train BCE Losses')\n",
        "plt.ylabel('Binary Cross Entropy')\n",
        "plt.xlabel('Epoch #')\n",
        "plt.legend(['Discriminator','Generator'], loc='upper right')\n",
        "plt.show()\n",
        "\n",
        "# Plot Test Losses\n",
        "plt.plot(discriminator_average_test_losses)\n",
        "plt.plot(generator_average_test_losses)\n",
        "plt.title('Test BCE Losses')\n",
        "plt.ylabel('Binary Cross Entropy')\n",
        "plt.xlabel('Epoch #')\n",
        "plt.legend(['Discriminator','Generator'], loc='upper right')\n",
        "plt.show()\n"
      ],
      "execution_count": null,
      "outputs": []
    }
  ]
}